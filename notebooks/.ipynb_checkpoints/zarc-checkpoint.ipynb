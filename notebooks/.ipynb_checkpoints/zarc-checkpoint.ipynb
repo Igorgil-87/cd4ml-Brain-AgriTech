{
 "cells": [
  {
   "cell_type": "code",
   "execution_count": 11,
   "id": "81313a91-3500-423a-9186-ac6c9282e858",
   "metadata": {},
   "outputs": [
    {
     "name": "stderr",
     "output_type": "stream",
     "text": [
      "2024-12-05 19:02:34,445 - INFO - Lendo o arquivo CSV filtrado: df_filtrado.csv\n",
      "2024-12-05 19:02:37,333 - INFO - Carregando os dados na tabela tabua_de_risco...\n",
      "2024-12-05 19:04:11,896 - INFO - Dados carregados com sucesso na tabela tabua_de_risco!\n"
     ]
    }
   ],
   "source": [
    "import pandas as pd\n",
    "from sqlalchemy import create_engine\n",
    "import logging\n",
    "\n",
    "# Configuração do banco de dados\n",
    "DB_CONFIG = {\n",
    "    \"database\": \"brain_agro\",\n",
    "    \"user\": \"agro_user\",\n",
    "    \"password\": \"agro_password\",\n",
    "    \"host\": \"localhost\",\n",
    "    \"port\": \"5432\"\n",
    "}\n",
    "\n",
    "# Configuração de logging\n",
    "logging.basicConfig(\n",
    "    level=logging.INFO,\n",
    "    format=\"%(asctime)s - %(levelname)s - %(message)s\"\n",
    ")\n",
    "\n",
    "# Criação da string de conexão SQLAlchemy\n",
    "connection_string = f\"postgresql://{DB_CONFIG['user']}:{DB_CONFIG['password']}@{DB_CONFIG['host']}:{DB_CONFIG['port']}/{DB_CONFIG['database']}\"\n",
    "engine = create_engine(connection_string)\n",
    "\n",
    "# Mapeamento completo das colunas\n",
    "column_mapping = {\n",
    "    \"Nome_cultura\": \"nome_cultura\",\n",
    "    \"SafraIni\": \"safra_ini\",\n",
    "    \"SafraFin\": \"safra_fin\",\n",
    "    \"Cod_Cultura\": \"cod_cultura\",\n",
    "    \"Cod_Ciclo\": \"cod_ciclo\",\n",
    "    \"Cod_Solo\": \"cod_solo\",\n",
    "    \"geocodigo\": \"geocodigo\",\n",
    "    \"UF\": \"uf\",\n",
    "    \"municipio\": \"municipio\",\n",
    "    \"Cod_Clima\": \"cod_clima\",\n",
    "    \"Nome_Clima\": \"nome_clima\",\n",
    "    \"Cod_Outros_Manejos\": \"cod_outros_manejos\",\n",
    "    \"Nome_Outros_Manejos\": \"nome_outros_manejos\",\n",
    "    \"Produtividade\": \"produtividade\",\n",
    "    \"Cod_Munic\": \"cod_munic\",\n",
    "    \"Cod_Meso\": \"cod_meso\",\n",
    "    \"Cod_Micro\": \"cod_micro\",\n",
    "    \"Portaria\": \"portaria\",\n",
    "    **{f\"dec{i}\": f\"dec{i}\" for i in range(1, 37)}  # Adicionar todos os decêntios\n",
    "}\n",
    "\n",
    "def clean_and_load_filtered_csv(csv_path, table_name, column_mapping):\n",
    "    try:\n",
    "        logging.info(f\"Lendo o arquivo CSV filtrado: {csv_path}\")\n",
    "        df = pd.read_csv(csv_path, sep=';', low_memory=False)\n",
    "\n",
    "        # Renomear colunas para corresponder à tabela do banco de dados\n",
    "        df.rename(columns=column_mapping, inplace=True)\n",
    "\n",
    "        # Tratamento de dados\n",
    "        for col in df.columns:\n",
    "            if col.startswith('dec'):  # Converter decêntios para numérico\n",
    "                df[col] = pd.to_numeric(df[col].replace(',', '.', regex=True), errors='coerce')\n",
    "            elif col == 'safra_ini':  # Ajustar safra_ini para inteiro\n",
    "                df[col] = pd.to_numeric(df[col], errors='coerce', downcast='integer')\n",
    "            elif col in ['safra_fin', 'uf', 'municipio', 'nome_cultura', 'nome_clima', 'nome_outros_manejos', 'produtividade', 'portaria']:\n",
    "                # Converter apenas valores não string para string\n",
    "                df[col] = df[col].fillna(\"\").map(lambda x: str(x).strip()[:255])\n",
    "\n",
    "        # Inserir no banco de dados\n",
    "        logging.info(f\"Carregando os dados na tabela {table_name}...\")\n",
    "        df.to_sql(table_name, con=engine, if_exists='replace', index=False)\n",
    "        logging.info(f\"Dados carregados com sucesso na tabela {table_name}!\")\n",
    "\n",
    "    except Exception as e:\n",
    "        logging.error(f\"Erro ao processar e carregar o CSV {csv_path} na tabela {table_name}: {e}\")\n",
    "\n",
    "# Caminho do CSV reduzido e nome da tabela\n",
    "csv_path = \"df_filtrado.csv\"\n",
    "table_name = \"tabua_de_risco\"\n",
    "\n",
    "# Processar e carregar o arquivo filtrado\n",
    "clean_and_load_filtered_csv(csv_path, table_name, column_mapping)"
   ]
  },
  {
   "cell_type": "code",
   "execution_count": 7,
   "id": "295a3044-f25d-45c1-8d30-cb8f44f69d8c",
   "metadata": {},
   "outputs": [],
   "source": []
  },
  {
   "cell_type": "code",
   "execution_count": null,
   "id": "408b805a-90fb-4b6e-b263-2679d8d2729d",
   "metadata": {},
   "outputs": [],
   "source": [
    "# String de conexão SQLAlchemy\n",
    "connection_string = f\"postgresql://{DB_CONFIG['user']}:{DB_CONFIG['password']}@{DB_CONFIG['host']}:{DB_CONFIG['port']}/{DB_CONFIG['database']}\"\n",
    "engine = create_engine(connection_string)\n",
    "\n",
    "# Query para visualizar os primeiros 10 registros\n",
    "query = \"SELECT * FROM tabua_de_risco LIMIT 10;\"\n",
    "\n",
    "# Executar a query e carregar os dados em um DataFrame\n",
    "df = pd.read_sql_query(query, con=engine)\n",
    "\n",
    "# Mostrar os dados\n",
    "print(df)"
   ]
  },
  {
   "cell_type": "code",
   "execution_count": null,
   "id": "6dc510cb-084b-4d07-b9ff-1f965bf9d352",
   "metadata": {},
   "outputs": [],
   "source": [
    "df.head()"
   ]
  },
  {
   "cell_type": "code",
   "execution_count": null,
   "id": "ed3e72a4-49ca-42d3-8361-3bf4c54fbb93",
   "metadata": {},
   "outputs": [],
   "source": []
  },
  {
   "cell_type": "code",
   "execution_count": null,
   "id": "78e7b546-bf4f-497b-b3ee-932d2e4d94c8",
   "metadata": {},
   "outputs": [],
   "source": []
  },
  {
   "cell_type": "code",
   "execution_count": null,
   "id": "530a3e9b-a197-45a1-9fb6-49871c22ca99",
   "metadata": {},
   "outputs": [],
   "source": []
  },
  {
   "cell_type": "code",
   "execution_count": null,
   "id": "609d53e7-b2ce-41d5-8437-b45a77b3c820",
   "metadata": {},
   "outputs": [],
   "source": []
  }
 ],
 "metadata": {
  "kernelspec": {
   "display_name": "Python 3",
   "language": "python",
   "name": "python3"
  },
  "language_info": {
   "codemirror_mode": {
    "name": "ipython",
    "version": 3
   },
   "file_extension": ".py",
   "mimetype": "text/x-python",
   "name": "python",
   "nbconvert_exporter": "python",
   "pygments_lexer": "ipython3",
   "version": "3.12.4"
  }
 },
 "nbformat": 4,
 "nbformat_minor": 5
}
